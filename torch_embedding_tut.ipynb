{
  "nbformat": 4,
  "nbformat_minor": 0,
  "metadata": {
    "colab": {
      "provenance": [],
      "authorship_tag": "ABX9TyM0f06FKH5FIhPAdkaUbDuJ",
      "include_colab_link": true
    },
    "kernelspec": {
      "name": "python3",
      "display_name": "Python 3"
    },
    "language_info": {
      "name": "python"
    }
  },
  "cells": [
    {
      "cell_type": "markdown",
      "metadata": {
        "id": "view-in-github",
        "colab_type": "text"
      },
      "source": [
        "<a href=\"https://colab.research.google.com/github/amitc11/ml-projects/blob/master/torch_embedding_tut.ipynb\" target=\"_parent\"><img src=\"https://colab.research.google.com/assets/colab-badge.svg\" alt=\"Open In Colab\"/></a>"
      ]
    },
    {
      "cell_type": "code",
      "execution_count": null,
      "metadata": {
        "id": "TrT_UvpGN3VT"
      },
      "outputs": [],
      "source": []
    },
    {
      "cell_type": "code",
      "source": [],
      "metadata": {
        "id": "kldCAxznX5Rm"
      },
      "execution_count": null,
      "outputs": []
    },
    {
      "cell_type": "markdown",
      "source": [
        "### Based on [link](https://towardsdatascience.com/word2vec-with-pytorch-implementing-original-paper-2cd7040120b0)"
      ],
      "metadata": {
        "id": "OcurtkoLXzX6"
      }
    },
    {
      "cell_type": "code",
      "source": [],
      "metadata": {
        "id": "A9Mc57nVX9iG"
      },
      "execution_count": null,
      "outputs": []
    }
  ]
}